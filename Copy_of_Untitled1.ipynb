{
  "nbformat": 4,
  "nbformat_minor": 0,
  "metadata": {
    "colab": {
      "name": "Copy of Untitled1.ipynb",
      "provenance": [],
      "authorship_tag": "ABX9TyMjq/yZnvjXFWRbm7hDeHxm",
      "include_colab_link": true
    },
    "kernelspec": {
      "name": "python3",
      "display_name": "Python 3"
    },
    "language_info": {
      "name": "python"
    }
  },
  "cells": [
    {
      "cell_type": "markdown",
      "metadata": {
        "id": "view-in-github",
        "colab_type": "text"
      },
      "source": [
        "<a href=\"https://colab.research.google.com/github/susmithaindukuri/python-lab/blob/main/Copy_of_Untitled1.ipynb\" target=\"_parent\"><img src=\"https://colab.research.google.com/assets/colab-badge.svg\" alt=\"Open In Colab\"/></a>"
      ]
    },
    {
      "cell_type": "code",
      "metadata": {
        "id": "Rne4rgJTXtCb"
      },
      "source": [
        ""
      ],
      "execution_count": null,
      "outputs": []
    },
    {
      "cell_type": "markdown",
      "metadata": {
        "id": "wT-EkGlnYA8a"
      },
      "source": [
        "  Nallari Ramya Sree\n",
        "  Redgno:-19A21A05A4\n",
        "  Section:- CSE-B"
      ]
    },
    {
      "cell_type": "markdown",
      "metadata": {
        "id": "sVtGjFXCYSX3"
      },
      "source": [
        " EXCERSICE-1\n",
        "A.WRITE PROGRAM IN INTERACTIVE,INTERPRETER,PYHON SCRIPT MODE.\n",
        "B.Write a program to purposefully raise Indentation Error and Correct it"
      ]
    },
    {
      "cell_type": "code",
      "metadata": {
        "colab": {
          "base_uri": "https://localhost:8080/"
        },
        "id": "AYMMonq4Yp4s",
        "outputId": "761c3c5f-e0b1-496a-9599-f2183307069f"
      },
      "source": [
        "  a=99\n",
        "b=88\n",
        "a,b=b,a\n",
        "print(a,b)"
      ],
      "execution_count": null,
      "outputs": [
        {
          "output_type": "stream",
          "text": [
            "88 99\n"
          ],
          "name": "stdout"
        }
      ]
    },
    {
      "cell_type": "code",
      "metadata": {
        "colab": {
          "base_uri": "https://localhost:8080/"
        },
        "id": "bi1bqudoY1YU",
        "outputId": "e084a812-118c-4fdd-8a82-370f3ac92704"
      },
      "source": [
        " a=input(\"enter a vlaue:\")\n",
        "b=input(\"enter b value:\")\n",
        "c=a+b;\n",
        "print(\"sum is \",c,sep=\"\\t\")\n",
        "c=int(a)+int(b)\n",
        "print(\"sum of {} and {} is : {}\".format(a,b,c))\n",
        "print(\"sum of %s and %s is:%d\"%(a,b,c))\n",
        "x=10\n",
        "y=113\n",
        "z=x+y;\n",
        "print(\"sum is\",z,sep='\\t' )"
      ],
      "execution_count": null,
      "outputs": [
        {
          "output_type": "stream",
          "text": [
            "enter a vlaue:6\n",
            "enter b value:9\n",
            "sum is \t69\n",
            "sum of 6 and 9 is : 15\n",
            "sum of 6 and 9 is:15\n",
            "sum is\t123\n"
          ],
          "name": "stdout"
        }
      ]
    },
    {
      "cell_type": "code",
      "metadata": {
        "colab": {
          "base_uri": "https://localhost:8080/"
        },
        "id": "Xc7ya_C-ZP25",
        "outputId": "aa9cd000-2d69-476b-a0ee-e4713184fc0e"
      },
      "source": [
        " print(\"welcome to python\")\n",
        "a=20\n",
        "b=30\n",
        "print(\"the value of a:\",a)\n",
        "print(\"the value of b :\",b)\n",
        "if(a>b):\n",
        "       print(\"a is big\");\n",
        "       print(\"ifbblock ends\")\n",
        "else:\n",
        "            print(\"b is big\")\n",
        "            print(\"elseblock ends\")"
      ],
      "execution_count": null,
      "outputs": [
        {
          "output_type": "stream",
          "text": [
            "welcome to python\n",
            "the value of a: 20\n",
            "the value of b : 30\n",
            "b is big\n",
            "elseblock ends\n"
          ],
          "name": "stdout"
        }
      ]
    },
    {
      "cell_type": "markdown",
      "metadata": {
        "id": "pFzt-hvkZY60"
      },
      "source": [
        "   EXERCISE-2\n",
        "A.COMPUTE DISTANCE BETWEEN TWO POINTS\n",
        "B.TAKE TWO NUMBERS ON COMMAND LINE ARGUMENTS AND PRINT THE SUM."
      ]
    },
    {
      "cell_type": "code",
      "metadata": {
        "colab": {
          "base_uri": "https://localhost:8080/"
        },
        "id": "woOC96r_ZhP-",
        "outputId": "276a6f6c-cd28-4f04-9a73-84353377e9eb"
      },
      "source": [
        " x1=15\n",
        "x2=70\n",
        "y1=10\n",
        "y2=20\n",
        "z=(pow((x2-x1),2)+pow((y2-y1),2))**0.5\n",
        "print(z)"
      ],
      "execution_count": null,
      "outputs": [
        {
          "output_type": "stream",
          "text": [
            "55.90169943749474\n"
          ],
          "name": "stdout"
        }
      ]
    },
    {
      "cell_type": "code",
      "metadata": {
        "colab": {
          "base_uri": "https://localhost:8080/"
        },
        "id": "RC3O5Xv9ZmNo",
        "outputId": "c5ce3211-cdea-486a-d718-d801e7f3cd6b"
      },
      "source": [
        " import math\n",
        "x1=int(input(\"enter  x1 value:\"))\n",
        "x2=int(input(\"enter  x2 value:\"))\n",
        "y1=int(input(\"enter  y1 value:\"))\n",
        "y2=int(input(\"enter  y2 value:\"))\n",
        "z=math.sqrt((x2-x1)**2+(y2-y1)**2)\n",
        "print(\"the distance between two points is :\",z)\n",
        "print(\"the distance between two points is :\",z,sep='\\t')\n",
        "print(\"the distance between ({}, {})and ({},{}) is  :{}\".format(x1,y1,x2,y2,z))\n",
        " \n",
        "print(\"the distance between (%d, %d)and (%d,%d) is  :%f\"%(x1,y1,x2,y2,z))"
      ],
      "execution_count": null,
      "outputs": [
        {
          "output_type": "stream",
          "text": [
            "enter  x1 value:10\n",
            "enter  x2 value:20\n",
            "enter  y1 value:30\n",
            "enter  y2 value:40\n",
            "the distance between two points is : 14.142135623730951\n",
            "the distance between two points is :\t14.142135623730951\n",
            "the distance between (10, 30)and (20,40) is  :14.142135623730951\n",
            "the distance between (10, 30)and (20,40) is  :14.142136\n"
          ],
          "name": "stdout"
        }
      ]
    },
    {
      "cell_type": "code",
      "metadata": {
        "id": "4ChmgZhpZwX4"
      },
      "source": [
        " import sys\n",
        "a=sys.argv[1]\n",
        "b=sys.argv[2]\n",
        "sum=int(a)+int(b)\n",
        "print(\"summ of two number is:\",sum)"
      ],
      "execution_count": null,
      "outputs": []
    },
    {
      "cell_type": "markdown",
      "metadata": {
        "id": "KzMdYsnvZzaG"
      },
      "source": [
        "   EXCERSCISE-3\n",
        "A) Write a Program for checking whether the given number is an even number or not.\n",
        "b) Using a for loop, write a program that prints out the decimal equivalents of 1/2, 1/3, 1/4, . . .1/10\n",
        "c) Write a program using a for loop that loops over a sequence. What is sequence?\n",
        "d) Write a program using a while loop that asks the user for a number, and prints a countdownfrom that number to zero"
      ]
    },
    {
      "cell_type": "code",
      "metadata": {
        "colab": {
          "base_uri": "https://localhost:8080/"
        },
        "id": "qT32wU3KZ6zO",
        "outputId": "1e2e4e8f-f457-4d10-853c-8d1298a6e7bf"
      },
      "source": [
        " n=int(input(\"enter a number:\"))\n",
        "if (n%2)==0:\n",
        "        print(\"given number is even\")\n",
        "else:\n",
        "      print(\"given number is odd\")"
      ],
      "execution_count": null,
      "outputs": [
        {
          "output_type": "stream",
          "text": [
            "enter a number:6\n",
            "given number is even\n"
          ],
          "name": "stdout"
        }
      ]
    },
    {
      "cell_type": "code",
      "metadata": {
        "id": "5Rz2SDVQaCcE"
      },
      "source": [
        " n=int(input(\"enter a number:\"))\n",
        "for i in range(2,n):\n",
        "    de=1/i;\n",
        "    print(\"1/\",i,\"=\",de)"
      ],
      "execution_count": null,
      "outputs": []
    },
    {
      "cell_type": "code",
      "metadata": {
        "id": "OvR7-ZXTaGf0"
      },
      "source": [
        " #program using a for a loop that loops over a sequence\n",
        "print(\"loop sequence\")\n",
        "num=[45,25,2,28,3,25]\n",
        "for i in num:\n",
        "    print(i)\n",
        " \n",
        "#string sequence\n",
        "print(\"string sequence\")\n",
        "days=[\"sun\",\"mon\",\"tue\",\"wed\",\"thur\",\"fri\",\"st\"]\n",
        "for d in days:\n",
        "    print(d)\n",
        "    \n",
        "#bothh sequence\n",
        "print(\"sequence\")\n",
        "arr=[123,\"abc\",5.6,'h',-33,\"xy\",True]\n",
        "for x in arr:\n",
        "      print(x)"
      ],
      "execution_count": null,
      "outputs": []
    },
    {
      "cell_type": "code",
      "metadata": {
        "id": "jPZ3OlDGaLrb"
      },
      "source": [
        " #countdown seq\n",
        "n=int(input(\"enter the numbr:\"))\n",
        "while n>0:\n",
        "      print(n)\n",
        "      n=n-1"
      ],
      "execution_count": null,
      "outputs": []
    },
    {
      "cell_type": "markdown",
      "metadata": {
        "id": "mkRb_rO-aWBZ"
      },
      "source": [
        "   EXCERCISE-4\n",
        "a) Find the sum of all the primes below two million. Each new term in the Fibonacci sequence is generated by adding the previous two terms. Bystarting with 1 and 2, the first 10 terms will be: 1, 2, 3, 5, 8, 13, 21, 34, 55, 89, ...\n",
        "b) By considering the terms in the Fibonacci sequence whose values do not exceed four million,find the sum of the even-valued terms."
      ]
    },
    {
      "cell_type": "code",
      "metadata": {
        "id": "-D6cEDd1aYbV"
      },
      "source": [
        " n=int(input(\"enter a num:\"))\n",
        "a=0\n",
        "b=1\n",
        "c=a+b\n",
        "st=\"\"\n",
        "sum=0\n",
        "con=0\n",
        "while con<=n:\n",
        "    st+=\"\"+str(c)\n",
        "    sum+=c        \n",
        "    a=b\n",
        "    b=c \n",
        "    c=a+b\n",
        "    con+=1\n",
        "print(st)\n",
        "print(\"sum of fibonacii series:\",sum)"
      ],
      "execution_count": null,
      "outputs": []
    },
    {
      "cell_type": "code",
      "metadata": {
        "id": "NVhSbxPpacdt"
      },
      "source": [
        " n=int(input(\"enter a number:\"))\n",
        "c=0\n",
        " \n",
        " \n",
        "st=\"\"\n",
        "sum=0\n",
        " \n",
        "for i in range(2,n):\n",
        " state=True\n",
        "for j in range(2,i):\n",
        " if(i%j==0):\n",
        "        state=False\n",
        "        break;\n",
        "if state==True:\n",
        "            st+=\"\"+str(i)\n",
        "            c+=1\n",
        "            sum+=i\n",
        " \n",
        "print(\"prime numbers\")\n",
        "print(st)\n",
        " \n",
        "print(\"total count of the prime numbers:\",c)\n",
        "print(\"sum of all prime nums:\",sum)"
      ],
      "execution_count": null,
      "outputs": []
    },
    {
      "cell_type": "markdown",
      "metadata": {
        "id": "l9geNeJgagxD"
      },
      "source": [
        " EXCERCISE-5\n",
        "DS\n",
        "a) Write a program to count the numbers of characters in the string and store them in adictionary data structure\n",
        "b) Write a program to use split and join methods in the string and trace a birthday with adictionary data structure."
      ]
    },
    {
      "cell_type": "code",
      "metadata": {
        "id": "f4YENY0NanzB"
      },
      "source": [
        " name=input(\"enter a name:\")\n",
        "dic={}\n",
        "for ch in name:\n",
        "    keys=dic.keys()\n",
        " \n",
        "    if(ch in keys):\n",
        "        dic[ch]=dic[ch]+1\n",
        "    else:\n",
        "        dic[ch]=1\n",
        " \n",
        "print(\"dictinarry is:\",dic)"
      ],
      "execution_count": null,
      "outputs": []
    },
    {
      "cell_type": "code",
      "metadata": {
        "id": "H8l_ShUkapDi"
      },
      "source": [
        " dob={\"Ramya\":\"22-01-2001\",\"Vijay\":\"04-07-1999\"}\n",
        "name=input(\"enter which person dob u want:\")\n",
        "l=name.split()\n",
        "birth=\"\"\n",
        "for i in l:\n",
        "    if i in dob.keys():\n",
        "        pers=i\n",
        " \n",
        "print(\"\".join([pers,\"birthdayis:\",dob[pers]]))"
      ],
      "execution_count": null,
      "outputs": []
    },
    {
      "cell_type": "markdown",
      "metadata": {
        "id": "8NlU9if8a8BH"
      },
      "source": [
        " EXERCISE-6\n",
        "DS - Continued\n",
        "a) Write a program combinelists that combines these lists into a dictionary.\n",
        "b) Write a program to count frequency of characters in a given file. Can you use character frequency to tell whether the given file is a Python program file, C program file or a text file?"
      ]
    },
    {
      "cell_type": "code",
      "metadata": {
        "id": "HOnn3UkXa9qG"
      },
      "source": [
        " sub=[\"daa\",\"os\",\"dbms\",\"p&s\",\"ppl\",\"se\"]\n",
        "marks=[85,96,75,65,83,56]\n",
        "print(sub)\n",
        "print(marks)\n",
        "dic=dict(zip(sub,marks))\n",
        "print(dic)"
      ],
      "execution_count": null,
      "outputs": []
    },
    {
      "cell_type": "code",
      "metadata": {
        "id": "zY8RvmMBbA9T"
      },
      "source": [
        " filetypes=['.py','.c','.txt']\n",
        "fn=input(\"enter a fikle name:\")\n",
        "f=open(fn,\"r\")\n",
        "count=dict()\n",
        "for  ft in filetypes:\n",
        "     if(ft in  fn):\n",
        "           if(ft==\".py\"):\n",
        "             print(\"python file\")\n",
        "           elif(ft==\".c\"):\n",
        "             print(\"cfile\")\n",
        "           elif(ft==\".txt\"):\n",
        "             print(\"text file\")\n",
        " \n",
        " \n",
        "for line in f:\n",
        "     for ch in line:\n",
        "          if ch in count:\n",
        "               count[ch]=count[ch]+1\n",
        " \n",
        "          else:\n",
        "              count[ch]=1\n",
        " \n",
        " \n",
        "print(count)\n",
        "f.close()"
      ],
      "execution_count": null,
      "outputs": []
    },
    {
      "cell_type": "code",
      "metadata": {
        "id": "IGTOtNtdbVwC"
      },
      "source": [
        ""
      ],
      "execution_count": null,
      "outputs": []
    },
    {
      "cell_type": "markdown",
      "metadata": {
        "id": "DcszEz0ZbF7x"
      },
      "source": [
        " EXCERCISE-7\n",
        "   7 files\n",
        "  a) Write a program to print each line of a file in reverse order.\n",
        "  b) Write a program to compute the number of characters, words and lines in a file."
      ]
    },
    {
      "cell_type": "markdown",
      "metadata": {
        "id": "8s6OD6dOX9AM"
      },
      "source": [
        ""
      ]
    },
    {
      "cell_type": "code",
      "metadata": {
        "id": "9H_RCoiRbYiU"
      },
      "source": [
        " obj=open(\"sam.txt\",\"r\")\n",
        "if obj:\n",
        "    st=obj.read()\n",
        "    print(\"file content is:\")\n",
        "obj.close()\n",
        "print()\n",
        "lines=st.split('\\n')\n",
        "for ln in lines:\n",
        "    i=len(ln)-1\n",
        "    while(i>=0):\n",
        "      print(ln[i],end='')\n",
        "      i=i-1\n",
        "    print()"
      ],
      "execution_count": null,
      "outputs": []
    },
    {
      "cell_type": "code",
      "metadata": {
        "id": "-fQzTrE0bdv3"
      },
      "source": [
        " obj=open(\"sam.txt\",\"r\")\n",
        "if obj:\n",
        "    st=obj.read()\n",
        "    print(\"file content is:\")\n",
        "obj.close()\n",
        "print()\n",
        "nc=nw=nl=0\n",
        "for ch in st:\n",
        "    if(ch):\n",
        "        nc=nc+1\n",
        "    if(ch==''):\n",
        "        nw=nw+1\n",
        "    if(ch=='\\n'):\n",
        "        nl=nl+1\n",
        " \n",
        "print(\"number of characters in a file:\",nc)\n",
        "print(\"number of words in file is:\",nw)\n",
        "print(\"number of lines ins file:\",nl)"
      ],
      "execution_count": null,
      "outputs": []
    },
    {
      "cell_type": "markdown",
      "metadata": {
        "id": "8_7Gdbvtbi32"
      },
      "source": [
        "   EXCERCISE-8"
      ]
    },
    {
      "cell_type": "markdown",
      "metadata": {
        "id": "sqAmYMWTbnsG"
      },
      "source": [
        "   8 Functions'"
      ]
    },
    {
      "cell_type": "markdown",
      "metadata": {
        "id": "INOr7vMYbtmc"
      },
      "source": [
        " a) Write a function ball collide that takes two balls as parameters and computes if they arecolliding. Your function should return a Boolean representing whether or not the balls arecolliding. Hint: Represent a ball on a plane as a tuple of (x, y, r), r being the radius If (distance between two balls centers) <= (sum of their radii) then (they are colliding)"
      ]
    },
    {
      "cell_type": "markdown",
      "metadata": {
        "id": "1liXzEY7bxwm"
      },
      "source": [
        " b) Find mean, median, mode for the given set of numbers in a list."
      ]
    },
    {
      "cell_type": "code",
      "metadata": {
        "id": "icWrpra1b1w9"
      },
      "source": [
        " import math\n",
        "def ballcollide(b1tup,b2tup):\n",
        "    x1=b1tup[0]\n",
        "    y1=b1tup[1]\n",
        "    x2=b2tup[0]\n",
        "    y2=b2tup[1]\n",
        "    r1=b1tup[2]\n",
        "    r2=b2tup[2]\n",
        " \n",
        " \n",
        "    d=math.sqrt((x2-x1)**2+(y2-y1)**2)\n",
        "    if(d<=r1+r2):\n",
        "      return True\n",
        "    else:\n",
        "        return False\n",
        " \n",
        " \n",
        "ball1=(1,2,3)\n",
        "ball2=(3,2,1)\n",
        "c=ballcollide(ball1,ball2)\n",
        "if(c):\n",
        "    print(\"balls are collided\")\n",
        "else:\n",
        "    print(\"ball are not collided\")"
      ],
      "execution_count": null,
      "outputs": []
    },
    {
      "cell_type": "code",
      "metadata": {
        "id": "abxI9aXRb794"
      },
      "source": [
        " def mean(numlist):\n",
        "    return sum(numlist)/len(numlist)\n",
        "def median(numlist):\n",
        "    numlist.sort()\n",
        "    print(numlist)\n",
        "    n=len(numlist)\n",
        "    print(\"total\",n)\n",
        "    mid=n//2\n",
        "    print(\"mid:\",mid)\n",
        "    if(n%2==0):\n",
        "        return numlist[mid]\n",
        "    else:\n",
        "        return (numlist[mid-1]+numlist[mid])/2\n",
        "def mode(numlist):\n",
        "    numlist.sort()\n",
        "    temp=[]\n",
        "    i=0\n",
        "    while i<len(numlist):\n",
        "        temp.append(numlist.count(numlist[i]))\n",
        "        i+=1\n",
        "    dic=dict(zip(numlist,temp))\n",
        "    modes={k for k, v in dic.items() if(v==max(temp))}\n",
        "    return modes\n",
        "list=[1,1,2,2,3,4,5,3,3]\n",
        "print(\"mean of guive list:\",mean(list))\n",
        "print(\"median of guive list:\",median(list))\n",
        " \n",
        "print(\"mode of guive list:\",mode(list))"
      ],
      "execution_count": null,
      "outputs": []
    },
    {
      "cell_type": "markdown",
      "metadata": {
        "id": "PQIOJX3xcCSW"
      },
      "source": [
        " Exercise - 9"
      ]
    },
    {
      "cell_type": "markdown",
      "metadata": {
        "id": "5Sw6tcLxcFid"
      },
      "source": [
        " Functions - Continued"
      ]
    },
    {
      "cell_type": "markdown",
      "metadata": {
        "id": "-cEH3PoOcIqX"
      },
      "source": [
        " a) Write a function nearly equal to test whether two strings are nearly equal. Two strings a and bare nearly equal when a can be generated by a single mutation on b."
      ]
    },
    {
      "cell_type": "markdown",
      "metadata": {
        "id": "HX4aYy9TcLy0"
      },
      "source": [
        " b) Write a function dup to find all duplicates in the list."
      ]
    },
    {
      "cell_type": "markdown",
      "metadata": {
        "id": "JF5gQG7TcOjZ"
      },
      "source": [
        " c) Write a function unique to find all the unique elements of a list."
      ]
    },
    {
      "cell_type": "code",
      "metadata": {
        "id": "LznMDY4DcRqq"
      },
      "source": [
        " def nearlyeq(str1,str2):\n",
        "    count=0\n",
        "    i=j=0\n",
        "    ss=0\n",
        "    while(i<len(str1)and j<len(str2)):\n",
        "        if(str1[i]!=str2[j]):\n",
        "            count+=1\n",
        "        if(len(str1)>len(str2)):\n",
        "            i+=1\n",
        " \n",
        "        elif(len(str1)==len(str2)):\n",
        "            pass\n",
        "        else:\n",
        "            i-=1     \n",
        "        if(count>1):\n",
        "             ss-=1\n",
        "             \n",
        "        i+=1\n",
        "        j+=1\n",
        "        if(count<2):\n",
        "             ss+=1\n",
        " \n",
        "    return ss\n",
        "s1=input(\"enter a string 1:\")\n",
        "s2=input(\"enter the string2:\")\n",
        "t=nearlyeq(s1,s2)\n",
        "if(t>1):\n",
        "    print(\"neraly equal0\")\n",
        "else:\n",
        "    print(\"not nearly equal\")"
      ],
      "execution_count": null,
      "outputs": []
    },
    {
      "cell_type": "markdown",
      "metadata": {
        "id": "eK_QUn4acVsF"
      },
      "source": [
        ""
      ]
    },
    {
      "cell_type": "code",
      "metadata": {
        "id": "oqHY9963cWG6"
      },
      "source": [
        " def dup(list):\n",
        "  list1=[]\n",
        "  for i in list:\n",
        "    count=list.count(i)\n",
        "    if(count>1 and (i not in list1)):\n",
        "        list1.append(i)\n",
        "        \n",
        "  print(\"the dups int he list are:\",list1)        \n",
        "list2=[1,2,1,2]\n",
        " \n",
        "dup(list2)"
      ],
      "execution_count": null,
      "outputs": []
    },
    {
      "cell_type": "code",
      "metadata": {
        "id": "Fhufrpljca0t"
      },
      "source": [
        " def unique(list1):\n",
        "  list2={}\n",
        " \n",
        "  for i in list1:\n",
        "    c=list1.count(i)\n",
        "    if c==1:\n",
        "      list2[i]=c\n",
        "  print(\"the unique elements in the list are:\",list2)\n",
        " \n",
        "list=[1,2,3,45,45,6,88,88,9]\n",
        "unique(list)"
      ],
      "execution_count": null,
      "outputs": []
    },
    {
      "cell_type": "markdown",
      "metadata": {
        "id": "IuwFhly5ceu6"
      },
      "source": [
        " Exercise - 10"
      ]
    },
    {
      "cell_type": "markdown",
      "metadata": {
        "id": "6JEmBAhSchhG"
      },
      "source": [
        " Functions - Problem Solving"
      ]
    },
    {
      "cell_type": "markdown",
      "metadata": {
        "id": "k1NPJjaNckXY"
      },
      "source": [
        " a) Write a function cumulative product to compute cumulative product of a list of numbers."
      ]
    },
    {
      "cell_type": "markdown",
      "metadata": {
        "id": "EYw6Jjd8cot3"
      },
      "source": [
        " b) Write a function reverse to reverse a list. Without using the reverse function."
      ]
    },
    {
      "cell_type": "markdown",
      "metadata": {
        "id": "2-TNmWZxcsAj"
      },
      "source": [
        " c) Write function to compute gcd, lcm of two numbers. Each function shouldn’t exceed one line"
      ]
    },
    {
      "cell_type": "code",
      "metadata": {
        "id": "klJ3l94jcvvZ"
      },
      "source": [
        " def cumulative_product(list1,n):\n",
        "    list2=[]\n",
        "    i=0\n",
        "    list2.append(list1[i])\n",
        "    for i in range(1,n):\n",
        "        v=list1[i]*list2[i-1]\n",
        "        list2.append(v)\n",
        "        \n",
        "    print(list2)\n",
        "list3=[]\n",
        "n=int(input(\"enter size :\"))\n",
        "print(\"enter the data:\")\n",
        "for i in range(0,n):\n",
        "    x=int(input())\n",
        "    list3.append(x)\n",
        "cumulative_product(list3,n)"
      ],
      "execution_count": null,
      "outputs": []
    },
    {
      "cell_type": "code",
      "metadata": {
        "id": "bHCuG8BLczEN"
      },
      "source": [
        " def reverse_list(numlist):\n",
        "    temp=list1[::-1]\n",
        "    numlist=temp\n",
        "    return temp\n",
        "list1=[1,2,3,4]\n",
        "print(\"giiven list is :\",list1)\n",
        "print(\"after reverse function:\",reverse_list(list1))\n",
        "print(\"after list is:\",list1)"
      ],
      "execution_count": null,
      "outputs": []
    },
    {
      "cell_type": "code",
      "metadata": {
        "id": "JMLcPJBAc2cb"
      },
      "source": [
        " gcd=lambda a,b: a if b==0 else gcd(a,a%b)\n",
        "lcm=lambda a,b: (a*b)/gcd(a,b)\n",
        " \n",
        "x=4\n",
        "y=24\n",
        "print(\"gcd=\",gcd(x,y))\n",
        "print(\"lcm=\",lcm(x,y))"
      ],
      "execution_count": null,
      "outputs": []
    }
  ]
}